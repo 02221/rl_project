{
  "nbformat": 4,
  "nbformat_minor": 0,
  "metadata": {
    "colab": {
      "name": "Untitled2.ipynb",
      "provenance": [],
      "collapsed_sections": [],
      "authorship_tag": "ABX9TyM813EO9bXdV6pDK6ko7Ft1",
      "include_colab_link": true
    },
    "kernelspec": {
      "name": "python3",
      "display_name": "Python 3"
    }
  },
  "cells": [
    {
      "cell_type": "markdown",
      "metadata": {
        "id": "view-in-github",
        "colab_type": "text"
      },
      "source": [
        "<a href=\"https://colab.research.google.com/github/shoh0320/rl_project/blob/master/Neural%20network.ipynb\" target=\"_parent\"><img src=\"https://colab.research.google.com/assets/colab-badge.svg\" alt=\"Open In Colab\"/></a>"
      ]
    },
    {
      "cell_type": "code",
      "metadata": {
        "id": "nrs6_A3gns_T",
        "colab_type": "code",
        "colab": {
          "base_uri": "https://localhost:8080/",
          "height": 70
        },
        "outputId": "a24799b9-46ab-4813-c33a-db49fc869ed2"
      },
      "source": [
        "import gym\n",
        "import tensorflow as tf\n",
        "import numpy as np\n",
        "\n",
        "# CartPole 환경 구성\n",
        "env = gym.make('CartPole-v1')\n",
        "\n",
        "# 뉴럴 네트워크 모델 만들기\n",
        "model = tf.keras.models.Sequential([\n",
        "  tf.keras.layers.Dense(128, input_shape=(4,), activation=tf.nn.relu),\n",
        "  tf.keras.layers.Dense(2)\n",
        "])\n",
        "\n",
        "# 첫번째 관찰\n",
        "observation = env.reset()\n",
        "\n",
        "# 뉴럴 네트워크의 선택\n",
        "predict = model.predict(observation.reshape(1, 4))\n",
        "action = np.argmax(predict)\n",
        "\n",
        "print(observation)\n",
        "print(predict)\n",
        "print(action)"
      ],
      "execution_count": 12,
      "outputs": [
        {
          "output_type": "stream",
          "text": [
            "[ 0.04620434  0.00192436 -0.01859284  0.00580765]\n",
            "[[-0.00714159  0.00607751]]\n",
            "1\n"
          ],
          "name": "stdout"
        }
      ]
    }
  ]
}