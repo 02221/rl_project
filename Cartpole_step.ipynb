{
  "nbformat": 4,
  "nbformat_minor": 0,
  "metadata": {
    "colab": {
      "name": "Untitled2.ipynb",
      "provenance": [],
      "collapsed_sections": [],
      "authorship_tag": "ABX9TyMUJRJgf404FjdCAh3fGGlO",
      "include_colab_link": true
    },
    "kernelspec": {
      "name": "python3",
      "display_name": "Python 3"
    }
  },
  "cells": [
    {
      "cell_type": "markdown",
      "metadata": {
        "id": "view-in-github",
        "colab_type": "text"
      },
      "source": [
        "<a href=\"https://colab.research.google.com/github/shoh0320/rl_project/blob/master/Cartpole_step.ipynb\" target=\"_parent\"><img src=\"https://colab.research.google.com/assets/colab-badge.svg\" alt=\"Open In Colab\"/></a>"
      ]
    },
    {
      "cell_type": "code",
      "metadata": {
        "id": "nrs6_A3gns_T",
        "colab_type": "code",
        "colab": {
          "base_uri": "https://localhost:8080/",
          "height": 70
        },
        "outputId": "5dd9b603-83fa-4cb8-bff1-0d5ba0b0d9f4"
      },
      "source": [
        "import gym\n",
        "env = gym.make('CartPole-v1')\n",
        "observation = env.reset()\n",
        "action = env.action_space.sample()\n",
        "step = env.step(action)\n",
        "\n",
        "print('First observation:',observation)\n",
        "print('Action:',action)\n",
        "print('Step:', step)"
      ],
      "execution_count": 6,
      "outputs": [
        {
          "output_type": "stream",
          "text": [
            "First observation: [-0.04928363  0.04776519 -0.04512642 -0.0251856 ]\n",
            "Action: 0\n",
            "Step: (array([-0.04832832, -0.14668153, -0.04563013,  0.2529249 ]), 1.0, False, {})\n"
          ],
          "name": "stdout"
        }
      ]
    }
  ]
}