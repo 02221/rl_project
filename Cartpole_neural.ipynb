{
  "nbformat": 4,
  "nbformat_minor": 0,
  "metadata": {
    "colab": {
      "name": "Untitled2.ipynb",
      "provenance": [],
      "collapsed_sections": [],
      "authorship_tag": "ABX9TyMJ8Imi43t/MiJBMO/J0dSr",
      "include_colab_link": true
    },
    "kernelspec": {
      "name": "python3",
      "display_name": "Python 3"
    }
  },
  "cells": [
    {
      "cell_type": "markdown",
      "metadata": {
        "id": "view-in-github",
        "colab_type": "text"
      },
      "source": [
        "<a href=\"https://colab.research.google.com/github/shoh0320/rl_project/blob/master/Cartpole_neural.ipynb\" target=\"_parent\"><img src=\"https://colab.research.google.com/assets/colab-badge.svg\" alt=\"Open In Colab\"/></a>"
      ]
    },
    {
      "cell_type": "code",
      "metadata": {
        "id": "nrs6_A3gns_T",
        "colab_type": "code",
        "colab": {
          "base_uri": "https://localhost:8080/",
          "height": 54
        },
        "outputId": "7292db38-ad55-4d0d-f82a-2de878d6edd1"
      },
      "source": [
        "import tensorflow as tf\n",
        "import numpy as np\n",
        "\n",
        "# CartPole 환경 구성\n",
        "env = gym.make('CartPole-v1')\n",
        "\n",
        "# 뉴럴 네트워크 모델 만들기\n",
        "model = tf.keras.models.Sequential([\n",
        "  tf.keras.layers.Dense(128, input_shape=(4,), activation=tf.nn.relu),\n",
        "  tf.keras.layers.Dense(2)\n",
        "])\n",
        "\n",
        "score = []\n",
        "\n",
        "# 100회의 에피소드\n",
        "for i in range(100):\n",
        "  observation = env.reset()\n",
        "\n",
        "  # 200개의 시간 스텝\n",
        "  for t in range(200):\n",
        "\n",
        "      # 뉴럴 네트워크의 선택\n",
        "      predict = model.predict(observation.reshape(1, 4))\n",
        "      action = np.argmax(predict)\n",
        "\n",
        "      observation, reward, done, info = env.step(action)\n",
        "\n",
        "      if done:\n",
        "          score.append(t + 1)\n",
        "          break\n",
        "\n",
        "env.close()\n",
        "print(score)"
      ],
      "execution_count": 15,
      "outputs": [
        {
          "output_type": "stream",
          "text": [
            "[82, 57, 59, 78, 42, 60, 65, 47, 76, 55, 45, 70, 87, 75, 75, 70, 55, 66, 55, 84, 73, 65, 97, 69, 39, 49, 66, 67, 66, 48, 45, 59, 54, 64, 60, 44, 78, 70, 75, 69, 77, 74, 62, 76, 99, 66, 64, 76, 51, 41, 64, 53, 55, 41, 62, 50, 42, 89, 51, 58, 76, 57, 66, 36, 54, 48, 56, 69, 53, 85, 58, 61, 60, 74, 52, 65, 45, 61, 62, 68, 52, 73, 75, 54, 45, 43, 69, 66, 62, 48, 72, 51, 71, 41, 61, 54, 51, 52, 62, 76]\n"
          ],
          "name": "stdout"
        }
      ]
    }
  ]
}